{
 "cells": [
  {
   "cell_type": "code",
   "execution_count": 1,
   "id": "c3c0f3fc",
   "metadata": {},
   "outputs": [],
   "source": [
    "import numpy as np\n",
    "import math as m\n",
    "from sklearn.metrics.pairwise import paired_distances"
   ]
  },
  {
   "cell_type": "code",
   "execution_count": 2,
   "id": "2c94505d",
   "metadata": {},
   "outputs": [],
   "source": [
    "def Distance(X):\n",
    "    n= X.shape[0]\n",
    "    D= np.zeros((n,n))\n",
    "    for i in range(n):\n",
    "        for j in range(n):\n",
    "            D[i,j] = m.sqrt((abs(X[i,0])-abs(X[j,0]))**2+(abs(X[i,1])-abs(X[j,1]))**2)\n",
    "            D[j,i] = m.sqrt((abs(X[i,0])-abs(X[j,0]))**2+(abs(X[i,1])-abs(X[j,1]))**2)\n",
    "    return D"
   ]
  },
  {
   "cell_type": "code",
   "execution_count": 4,
   "id": "533fcfb4",
   "metadata": {},
   "outputs": [
    {
     "name": "stdout",
     "output_type": "stream",
     "text": [
      "5.89 s ± 236 ms per loop (mean ± std. dev. of 7 runs, 1 loop each)\n",
      "107 µs ± 1.07 µs per loop (mean ± std. dev. of 7 runs, 10,000 loops each)\n"
     ]
    }
   ],
   "source": [
    "X = np.random.normal(size=(800,2)) #(any positive int,2)\n",
    "%timeit Distance(X)\n",
    "%timeit paired_distances(X,X)"
   ]
  }
 ],
 "metadata": {
  "kernelspec": {
   "display_name": "Python 3 (ipykernel)",
   "language": "python",
   "name": "python3"
  },
  "language_info": {
   "codemirror_mode": {
    "name": "ipython",
    "version": 3
   },
   "file_extension": ".py",
   "mimetype": "text/x-python",
   "name": "python",
   "nbconvert_exporter": "python",
   "pygments_lexer": "ipython3",
   "version": "3.9.12"
  }
 },
 "nbformat": 4,
 "nbformat_minor": 5
}
