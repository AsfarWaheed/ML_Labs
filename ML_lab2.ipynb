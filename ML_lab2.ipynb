{
 "cells": [
  {
   "cell_type": "markdown",
   "id": "574d6f0c",
   "metadata": {},
   "source": [
    "### **Problem 2.1:**\n",
    "\n",
    "Use Ridge regression to solve the regression problem in Example 2.1 as well as the classification problem in Example 2.2, also implement both closed-form and iterative approachs, compare the results of Ridge regression with those of linear regression."
   ]
  },
  {
   "cell_type": "code",
   "execution_count": 2,
   "id": "f7fd115a",
   "metadata": {},
   "outputs": [
    {
     "name": "stdout",
     "output_type": "stream",
     "text": [
      "(506, 13)\n",
      "(506,)\n"
     ]
    }
   ],
   "source": [
    "# NAME: Asfar Waheed      Reg No: 2019-EE-260\n",
    "#importing all libraries\n",
    "import pandas as pd\n",
    "import numpy as np\n",
    "from sklearn import linear_model\n",
    "from sklearn.metrics import mean_squared_error\n",
    "\n",
    "#importing data\n",
    "raw_data = pd.read_csv('boston.csv', header=None)\n",
    "#reshaping raw data\n",
    "data_rows = np.reshape(raw_data.to_numpy(), (506,14))\n",
    "#separating features\n",
    "data = data_rows[:,:13]\n",
    "#separting output\n",
    "target = data_rows[:,13]\n",
    "# normalize input features to zero-mean and unit-variance\n",
    "data = (data-np.mean(data, axis=0))/np.std(data, axis=0) \n",
    "print(data.shape)\n",
    "print(target.shape)"
   ]
  },
  {
   "cell_type": "code",
   "execution_count": 3,
   "id": "ecad6b34",
   "metadata": {},
   "outputs": [
    {
     "name": "stdout",
     "output_type": "stream",
     "text": [
      "Mean square error for the closed-form Ridge regression solution: 21.89784\n"
     ]
    }
   ],
   "source": [
    "# add a constant column of '1' to accomodate the bias \n",
    "data_wb = np.hstack((data, np.ones((data.shape[0], 1), dtype=data.dtype)))\n",
    "I = np.eye(data_wb.shape[1])\n",
    "#closed-form solution\n",
    "w = np.linalg.inv(data_wb.T @ data_wb + 1*I) @ data_wb.T @ target\n",
    "# calculate the mean square error in the training set\n",
    "predict = data_wb @ w \n",
    "error = np.sum((predict - target)*(predict - target))/data.shape[0]\n",
    "e1 = error #for further comparison\n",
    "print(f'Mean square error for the closed-form solution: {error:.5f}')"
   ]
  },
  {
   "cell_type": "code",
   "execution_count": 4,
   "id": "0ab1183e",
   "metadata": {},
   "outputs": [],
   "source": [
    "class RidgeRegression():\n",
    "    def __init__(self, learning_rate, iterations, L2_penality):  \n",
    "        self.learning_rate = learning_rate        \n",
    "        self.iterations = iterations        \n",
    "        self.L2_penality = L2_penality            \n",
    "    def fit(self, X, Y ):\n",
    "        self.m, self.n = X.shape        \n",
    "        self.W = np.zeros( self.n)\n",
    "        self.b = 0        \n",
    "        self.X = X        \n",
    "        self.Y = Y\n",
    "        for i in range(self.iterations):            \n",
    "            self.update_weights()            \n",
    "        return self\n",
    "    def update_weights(self):           \n",
    "        Y_pred = self.predict(self.X)\n",
    "        dW = (-(2*(self.X.T).dot(self.Y - Y_pred)) + (2*self.L2_penality*self.W))/self.m     \n",
    "        db = -2*np.sum(self.Y - Y_pred)/self.m     \n",
    "        self.W = self.W - self.learning_rate * dW    \n",
    "        self.b = self.b - self.learning_rate * db        \n",
    "        return self \n",
    "    def predict(self, X) :    \n",
    "        return X.dot( self.W ) + self.b"
   ]
  },
  {
   "cell_type": "code",
   "execution_count": 5,
   "id": "83603f94",
   "metadata": {},
   "outputs": [
    {
     "name": "stdout",
     "output_type": "stream",
     "text": [
      "Mean squared error Iterative Ridge regression: 21.96028\n"
     ]
    }
   ],
   "source": [
    "op = RidgeRegression(iterations = 1000, learning_rate = 0.01, L2_penality = 1)\n",
    "\n",
    "op.fit( data_wb, target)\n",
    "predict = op.predict(data_wb)\n",
    "print(\"Mean squared error: %.5f\" % mean_squared_error(target, predict))"
   ]
  },
  {
   "cell_type": "code",
   "execution_count": 6,
   "id": "f5385b8b",
   "metadata": {},
   "outputs": [
    {
     "name": "stdout",
     "output_type": "stream",
     "text": [
      "Mean squared error for linear regression: 21.89483\n",
      "Mean squared error for Ridge regression: 21.89586\n"
     ]
    }
   ],
   "source": [
    "# Create linear regression object\n",
    "l_regr = linear_model.LinearRegression()\n",
    "# Train the model using the training set\n",
    "l_regr.fit(data_wb, target)\n",
    "# Make predictions using the same training set\n",
    "predict = l_regr.predict(data_wb)\n",
    "# The mean squared error\n",
    "print(\"Mean squared error for linear regression: %.5f\" % mean_squared_error(target, predict))"
   ]
  },
  {
   "cell_type": "code",
   "execution_count": null,
   "id": "830c423f",
   "metadata": {},
   "outputs": [],
   "source": [
    "# Using Ridge regression Scikit learn\n",
    "l_Ridge = linear_model.Ridge(alpha = 1)\n",
    "# Train the model using the training set\n",
    "l_Ridge.fit(data_wb, target)\n",
    "# Make predictions using the same training set\n",
    "predict = l_Ridge.predict(data_wb)\n",
    "# The mean squared error\n",
    "print(\"Mean squared error for Ridge regression: %.5f\" % mean_squared_error(target, predict))"
   ]
  },
  {
   "cell_type": "markdown",
   "id": "6de04b6d",
   "metadata": {},
   "source": [
    "**Solving Example 2.2**"
   ]
  },
  {
   "cell_type": "code",
   "execution_count": 7,
   "id": "6dcce2d7",
   "metadata": {},
   "outputs": [
    {
     "name": "stdout",
     "output_type": "stream",
     "text": [
      "(60000, 784) (60000,) (10000, 784) (10000,)\n"
     ]
    }
   ],
   "source": [
    "from mnist import MNIST\n",
    "\n",
    "mnist_loader = MNIST('MNIST')\n",
    "train_data, train_label = mnist_loader.load_training()\n",
    "test_data, test_label = mnist_loader.load_testing()\n",
    "train_data = np.array(train_data, dtype='float')/255 # norm to [0,1]\n",
    "train_label = np.array(train_label, dtype='short')\n",
    "test_data = np.array(test_data, dtype='float')/255 # norm to [0,1]\n",
    "test_label = np.array(test_label, dtype='short')\n",
    "#add small random noise to avoid matrix singularity\n",
    "train_data += np.random.normal(0,0.0001,train_data.shape) \n",
    "print(train_data.shape, train_label.shape, test_data.shape, test_label.shape)"
   ]
  },
  {
   "cell_type": "code",
   "execution_count": 8,
   "id": "e284aee8",
   "metadata": {},
   "outputs": [
    {
     "name": "stdout",
     "output_type": "stream",
     "text": [
      "(11982, 785)\n",
      "[-1 -1 -1 ...  1 -1  1]\n",
      "(1984, 785)\n",
      "[-1 -1 -1 ... -1  1 -1]\n"
     ]
    }
   ],
   "source": [
    "# prepare digits '3' and '8' for Ridge regression\n",
    "digit_train_index = np.logical_or(train_label == 3, train_label == 8)\n",
    "X_train = train_data[digit_train_index]\n",
    "y_train = train_label[digit_train_index]\n",
    "digit_test_index = np.logical_or(test_label == 3, test_label == 8)\n",
    "X_test = test_data[digit_test_index]\n",
    "y_test = test_label[digit_test_index]\n",
    "# add a constant column of '1' to accomodate the bias\n",
    "X_train = np.hstack((X_train, np.ones((X_train.shape[0], 1), dtype=X_train.dtype)))\n",
    "X_test = np.hstack((X_test, np.ones((X_test.shape[0], 1), dtype=X_test.dtype)))\n",
    "# convert labels: '3' => -1, '8' => +1\n",
    "CUTOFF = 5 # any number between '3' and '8'\n",
    "y_train = np.sign(y_train-CUTOFF)\n",
    "y_test = np.sign(y_test-CUTOFF)\n",
    "print(X_train.shape)\n",
    "print(y_train)\n",
    "print(X_test.shape)\n",
    "print(y_test)"
   ]
  },
  {
   "cell_type": "markdown",
   "id": "eb82e589",
   "metadata": {},
   "source": [
    "**Solving by Closed-form**"
   ]
  },
  {
   "cell_type": "code",
   "execution_count": 9,
   "id": "5782baf5",
   "metadata": {},
   "outputs": [
    {
     "name": "stdout",
     "output_type": "stream",
     "text": [
      "Mean square error on training data for the closed-form Ridge regression solution: 0.20014\n",
      "Ridge regression accuracy on training data for the closed-form solution: 96.78685%\n",
      "Mean square error on test data for the closed-form Ridge regression solution: 0.22013\n",
      "Ridge regression accuracy on test data for the closed-form solution: 96.01815%\n"
     ]
    }
   ],
   "source": [
    "# use the Ridge regression closed-form solution\n",
    "I = np.eye(X_train.shape[1])\n",
    "# refer to the closed-form solution\n",
    "w = np.linalg.inv(X_train.T @ X_train + 1*I) @ X_train.T @ y_train\n",
    "# calculate the mean square error and Ridge regression accuracy on the training set\n",
    "predict = X_train @ w \n",
    "error = np.sum((predict - y_train)*(predict - y_train))/X_train.shape[0]\n",
    "print(f'Mean square error on training data for the closed-form solution: {error:.5f}')\n",
    "accuracy = np.count_nonzero(np.equal(np.sign(predict),y_train))/y_train.size*100.0\n",
    "print(f'accuracy on training data for the closed-form solution: {accuracy:.5f}%')\n",
    "\n",
    "# calculate the mean square error and Ridge regression accuracy on the test set\n",
    "predict = X_test @ w \n",
    "error = np.sum((predict - y_test)*(predict - y_test))/X_test.shape[0]\n",
    "print(f'Mean square error on test data for the closed-form solution: {error:.5f}')\n",
    "accuracy = np.count_nonzero(np.equal(np.sign(predict),y_test))/y_test.size*100.0\n",
    "print(f'accuracy on test data for the closed-form solution: {accuracy:.5f}%')"
   ]
  },
  {
   "cell_type": "markdown",
   "id": "78375b98",
   "metadata": {},
   "source": [
    "**Solving by Iterative Manner**"
   ]
  },
  {
   "cell_type": "code",
   "execution_count": 10,
   "id": "40389cba",
   "metadata": {},
   "outputs": [
    {
     "name": "stdout",
     "output_type": "stream",
     "text": [
      "Mean square error on training data for the Iterative Ridge regression solution: 0.21094\n",
      "Mean square error on test data for the Iterative Ridge regression solution: 0.21064\n"
     ]
    }
   ],
   "source": [
    "op = RidgeRegression(iterations = 1000, learning_rate = 0.01, L2_penality = 2)\n",
    "op.fit(X_train, y_train)\n",
    "predict1 = op.predict(X_train)\n",
    "print(\"Mean square error on training data solution: %.5f\" % mean_squared_error(y_train, predict1))\n",
    "\n",
    "predict2 = op.predict(X_test)\n",
    "print(\"Mean square error on test data solution: %.5f\" % mean_squared_error(y_test, predict2))"
   ]
  },
  {
   "cell_type": "code",
   "execution_count": null,
   "id": "a411a92f",
   "metadata": {},
   "outputs": [],
   "source": []
  },
  {
   "cell_type": "code",
   "execution_count": 11,
   "id": "e08b527a",
   "metadata": {},
   "outputs": [
    {
     "name": "stdout",
     "output_type": "stream",
     "text": [
      "Mean squared error on training data for Linear regression: 0.19602\n",
      "Mean squared error on test data for Linear regression: 2.13765\n",
      "Mean squared error on training data for Ridge regression: 0.20014\n",
      "Mean squared error on test data for Ridge regression: 0.22013\n"
     ]
    }
   ],
   "source": [
    "# Create linear regression object\n",
    "l_regr = linear_model.LinearRegression()\n",
    "# Train the model using the training set\n",
    "l_regr.fit(X_train, y_train)\n",
    "# Make predictions using the same training set\n",
    "predict = l_regr.predict(X_train)\n",
    "print(\"Mean squared error on training data for Linear regression: %.5f\" % mean_squared_error(y_train, predict))\n",
    "# Make predictions using the test set\n",
    "predict = l_regr.predict(X_test)\n",
    "print(\"Mean squared error on test data for Linear regression: %.5f\" % mean_squared_error(y_test, predict))"
   ]
  },
  {
   "cell_type": "code",
   "execution_count": null,
   "id": "100637c6",
   "metadata": {},
   "outputs": [],
   "source": [
    "# Create Ridge regression object\n",
    "Ridge = linear_model.Ridge()\n",
    "# Train the model using the training set\n",
    "Ridge.fit(X_train, y_train)\n",
    "# Make predictions using the same training set\n",
    "predict = Ridge.predict(X_train)\n",
    "print(\"Mean squared error on training data : %.5f\" % mean_squared_error(y_train, predict))\n",
    "# Make predictions using the test set\n",
    "predict = Ridge.predict(X_test)\n",
    "print(\"Mean squared error on test data : %.5f\" % mean_squared_error(y_test, predict))"
   ]
  },
  {
   "cell_type": "markdown",
   "id": "accb0013",
   "metadata": {},
   "source": [
    "### **Problem 2.2:**\n",
    "\n",
    "Use LASSO to solve the regression problem in Example 2.1 as well as the classification problem in Example 2.2, compare the results of LASSO with those of linear regression and Ridge regression."
   ]
  },
  {
   "cell_type": "code",
   "execution_count": 12,
   "id": "002997ec",
   "metadata": {},
   "outputs": [
    {
     "name": "stdout",
     "output_type": "stream",
     "text": [
      "Mean squared error: 28.46465\n"
     ]
    }
   ],
   "source": [
    "lasso = linear_model.Lasso(alpha = 1)\n",
    "lasso.fit(data_wb, target)\n",
    "predict = lasso.predict(data_wb)\n",
    "print(\"Mean squared error: %.5f\" % mean_squared_error(target, predict))"
   ]
  },
  {
   "cell_type": "code",
   "execution_count": null,
   "id": "94818820",
   "metadata": {},
   "outputs": [],
   "source": []
  }
 ],
 "metadata": {
  "kernelspec": {
   "display_name": "Python 3 (ipykernel)",
   "language": "python",
   "name": "python3"
  },
  "language_info": {
   "codemirror_mode": {
    "name": "ipython",
    "version": 3
   },
   "file_extension": ".py",
   "mimetype": "text/x-python",
   "name": "python",
   "nbconvert_exporter": "python",
   "pygments_lexer": "ipython3",
   "version": "3.9.12"
  }
 },
 "nbformat": 4,
 "nbformat_minor": 5
}
